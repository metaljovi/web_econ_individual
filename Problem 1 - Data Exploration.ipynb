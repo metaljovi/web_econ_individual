{
 "cells": [
  {
   "cell_type": "markdown",
   "metadata": {},
   "source": [
    "## Import libraries"
   ]
  },
  {
   "cell_type": "code",
   "execution_count": 1,
   "metadata": {
    "collapsed": true
   },
   "outputs": [],
   "source": [
    "%matplotlib inline\n",
    "\n",
    "import pandas as pd\n",
    "import matplotlib.pyplot as plt\n",
    "import numpy as np\n",
    "from random import randint\n",
    "from sklearn.linear_model import LogisticRegression\n",
    "from sklearn.ensemble import RandomForestClassifier\n",
    "from sklearn.ensemble import GradientBoostingRegressor\n",
    "from sklearn import metrics"
   ]
  },
  {
   "cell_type": "markdown",
   "metadata": {},
   "source": [
    "## Import the datasets"
   ]
  },
  {
   "cell_type": "code",
   "execution_count": 2,
   "metadata": {
    "collapsed": true
   },
   "outputs": [],
   "source": [
    "df_train = pd.read_csv('E:\\\\web_economics\\\\train.csv')\n",
    "df_test = pd.read_csv('E:\\\\web_economics\\\\test.csv')\n",
    "df_val = pd.read_csv('E:\\\\web_economics\\\\validation.csv')"
   ]
  },
  {
   "cell_type": "code",
   "execution_count": 3,
   "metadata": {
    "collapsed": false
   },
   "outputs": [
    {
     "data": {
      "text/plain": [
       "array(['trqRTuxJMT27gspy', '5F1RQS9rg5scFsf', '31xSTvprdN1RFt', ...,\n",
       "       '9ca5460df7de5223bd881045d82c1af1', 'trqRTumJMvC41m58uG',\n",
       "       'ef1fa9f5ad6ada39f1b042f1744217ba'], dtype=object)"
      ]
     },
     "execution_count": 3,
     "metadata": {},
     "output_type": "execute_result"
    }
   ],
   "source": [
    "df_test.domain.unique()"
   ]
  },
  {
   "cell_type": "markdown",
   "metadata": {},
   "source": [
    "### Get all the column info of training dataset"
   ]
  },
  {
   "cell_type": "code",
   "execution_count": 4,
   "metadata": {
    "collapsed": false,
    "scrolled": false
   },
   "outputs": [
    {
     "name": "stdout",
     "output_type": "stream",
     "text": [
      "<class 'pandas.core.frame.DataFrame'>\n",
      "RangeIndex: 2697738 entries, 0 to 2697737\n",
      "Data columns (total 26 columns):\n",
      "click             int64\n",
      "weekday           int64\n",
      "hour              int64\n",
      "bidid             object\n",
      "logtype           int64\n",
      "userid            object\n",
      "useragent         object\n",
      "IP                object\n",
      "region            int64\n",
      "city              int64\n",
      "adexchange        object\n",
      "domain            object\n",
      "url               object\n",
      "urlid             object\n",
      "slotid            object\n",
      "slotwidth         int64\n",
      "slotheight        int64\n",
      "slotvisibility    object\n",
      "slotformat        object\n",
      "slotprice         int64\n",
      "creative          object\n",
      "bidprice          int64\n",
      "payprice          int64\n",
      "keypage           object\n",
      "advertiser        int64\n",
      "usertag           object\n",
      "dtypes: int64(12), object(14)\n",
      "memory usage: 535.1+ MB\n"
     ]
    }
   ],
   "source": [
    "df_train.info()"
   ]
  },
  {
   "cell_type": "markdown",
   "metadata": {},
   "source": [
    "### example of data in training dataset"
   ]
  },
  {
   "cell_type": "code",
   "execution_count": 5,
   "metadata": {
    "collapsed": false,
    "scrolled": false
   },
   "outputs": [
    {
     "data": {
      "text/plain": [
       "click                                            0\n",
       "weekday                                          1\n",
       "hour                                            14\n",
       "bidid             fdfae6789b787899f1b875de3ab8b21a\n",
       "logtype                                          1\n",
       "userid                           u_Vh1OPkFv3q5CFdR\n",
       "useragent                               windows_ie\n",
       "IP                                   180.107.112.*\n",
       "region                                          80\n",
       "city                                            85\n",
       "adexchange                                       2\n",
       "domain                        trqRTuToMTNUjM9r5rMi\n",
       "url               d48a96ab59d7ad741a48e781de44efeb\n",
       "urlid                                         null\n",
       "slotid                                   433287550\n",
       "slotwidth                                      468\n",
       "slotheight                                      60\n",
       "slotvisibility                                   1\n",
       "slotformat                                       0\n",
       "slotprice                                        5\n",
       "creative          612599432d200b093719dd1f372f7a30\n",
       "bidprice                                       300\n",
       "payprice                                        54\n",
       "keypage           bebefa5efe83beee17a3d245e7c5085b\n",
       "advertiser                                    1458\n",
       "usertag                                13866,10063\n",
       "Name: 0, dtype: object"
      ]
     },
     "execution_count": 5,
     "metadata": {},
     "output_type": "execute_result"
    }
   ],
   "source": [
    "df_train.iloc[0]"
   ]
  },
  {
   "cell_type": "markdown",
   "metadata": {},
   "source": [
    "### calculate basic statistics"
   ]
  },
  {
   "cell_type": "code",
   "execution_count": 6,
   "metadata": {
    "collapsed": false
   },
   "outputs": [
    {
     "data": {
      "text/html": [
       "<div>\n",
       "<table border=\"1\" class=\"dataframe\">\n",
       "  <thead>\n",
       "    <tr style=\"text-align: right;\">\n",
       "      <th></th>\n",
       "      <th>adv</th>\n",
       "      <th>costs</th>\n",
       "      <th>clicks</th>\n",
       "      <th>imps</th>\n",
       "      <th>conversion</th>\n",
       "      <th>CTR</th>\n",
       "      <th>CVR</th>\n",
       "      <th>avg_CPM</th>\n",
       "      <th>eCPC</th>\n",
       "    </tr>\n",
       "  </thead>\n",
       "  <tbody>\n",
       "    <tr>\n",
       "      <th>0</th>\n",
       "      <td>1458.0</td>\n",
       "      <td>37231.239</td>\n",
       "      <td>451.0</td>\n",
       "      <td>540293.0</td>\n",
       "      <td>0.0</td>\n",
       "      <td>0.083473</td>\n",
       "      <td>0.0</td>\n",
       "      <td>68.909349</td>\n",
       "      <td>82.552636</td>\n",
       "    </tr>\n",
       "    <tr>\n",
       "      <th>1</th>\n",
       "      <td>3476.0</td>\n",
       "      <td>27481.402</td>\n",
       "      <td>175.0</td>\n",
       "      <td>346778.0</td>\n",
       "      <td>0.0</td>\n",
       "      <td>0.050465</td>\n",
       "      <td>0.0</td>\n",
       "      <td>79.247824</td>\n",
       "      <td>157.036583</td>\n",
       "    </tr>\n",
       "    <tr>\n",
       "      <th>2</th>\n",
       "      <td>3427.0</td>\n",
       "      <td>36820.111</td>\n",
       "      <td>340.0</td>\n",
       "      <td>454031.0</td>\n",
       "      <td>0.0</td>\n",
       "      <td>0.074885</td>\n",
       "      <td>0.0</td>\n",
       "      <td>81.096029</td>\n",
       "      <td>108.294444</td>\n",
       "    </tr>\n",
       "    <tr>\n",
       "      <th>3</th>\n",
       "      <td>3358.0</td>\n",
       "      <td>28145.288</td>\n",
       "      <td>233.0</td>\n",
       "      <td>304782.0</td>\n",
       "      <td>0.0</td>\n",
       "      <td>0.076448</td>\n",
       "      <td>0.0</td>\n",
       "      <td>92.345637</td>\n",
       "      <td>120.795227</td>\n",
       "    </tr>\n",
       "    <tr>\n",
       "      <th>4</th>\n",
       "      <td>2259.0</td>\n",
       "      <td>13649.026</td>\n",
       "      <td>45.0</td>\n",
       "      <td>146778.0</td>\n",
       "      <td>0.0</td>\n",
       "      <td>0.030659</td>\n",
       "      <td>0.0</td>\n",
       "      <td>92.990952</td>\n",
       "      <td>303.311689</td>\n",
       "    </tr>\n",
       "    <tr>\n",
       "      <th>5</th>\n",
       "      <td>2821.0</td>\n",
       "      <td>20625.766</td>\n",
       "      <td>144.0</td>\n",
       "      <td>231416.0</td>\n",
       "      <td>0.0</td>\n",
       "      <td>0.062226</td>\n",
       "      <td>0.0</td>\n",
       "      <td>89.128522</td>\n",
       "      <td>143.234486</td>\n",
       "    </tr>\n",
       "    <tr>\n",
       "      <th>6</th>\n",
       "      <td>3386.0</td>\n",
       "      <td>38341.028</td>\n",
       "      <td>358.0</td>\n",
       "      <td>498554.0</td>\n",
       "      <td>0.0</td>\n",
       "      <td>0.071808</td>\n",
       "      <td>0.0</td>\n",
       "      <td>76.904464</td>\n",
       "      <td>107.097844</td>\n",
       "    </tr>\n",
       "    <tr>\n",
       "      <th>7</th>\n",
       "      <td>2997.0</td>\n",
       "      <td>3413.227</td>\n",
       "      <td>251.0</td>\n",
       "      <td>54487.0</td>\n",
       "      <td>0.0</td>\n",
       "      <td>0.460660</td>\n",
       "      <td>0.0</td>\n",
       "      <td>62.642961</td>\n",
       "      <td>13.598514</td>\n",
       "    </tr>\n",
       "    <tr>\n",
       "      <th>8</th>\n",
       "      <td>2261.0</td>\n",
       "      <td>10789.152</td>\n",
       "      <td>37.0</td>\n",
       "      <td>120619.0</td>\n",
       "      <td>0.0</td>\n",
       "      <td>0.030675</td>\n",
       "      <td>0.0</td>\n",
       "      <td>89.448196</td>\n",
       "      <td>291.598703</td>\n",
       "    </tr>\n",
       "  </tbody>\n",
       "</table>\n",
       "</div>"
      ],
      "text/plain": [
       "      adv      costs  clicks      imps  conversion       CTR  CVR    avg_CPM  \\\n",
       "0  1458.0  37231.239   451.0  540293.0         0.0  0.083473  0.0  68.909349   \n",
       "1  3476.0  27481.402   175.0  346778.0         0.0  0.050465  0.0  79.247824   \n",
       "2  3427.0  36820.111   340.0  454031.0         0.0  0.074885  0.0  81.096029   \n",
       "3  3358.0  28145.288   233.0  304782.0         0.0  0.076448  0.0  92.345637   \n",
       "4  2259.0  13649.026    45.0  146778.0         0.0  0.030659  0.0  92.990952   \n",
       "5  2821.0  20625.766   144.0  231416.0         0.0  0.062226  0.0  89.128522   \n",
       "6  3386.0  38341.028   358.0  498554.0         0.0  0.071808  0.0  76.904464   \n",
       "7  2997.0   3413.227   251.0   54487.0         0.0  0.460660  0.0  62.642961   \n",
       "8  2261.0  10789.152    37.0  120619.0         0.0  0.030675  0.0  89.448196   \n",
       "\n",
       "         eCPC  \n",
       "0   82.552636  \n",
       "1  157.036583  \n",
       "2  108.294444  \n",
       "3  120.795227  \n",
       "4  303.311689  \n",
       "5  143.234486  \n",
       "6  107.097844  \n",
       "7   13.598514  \n",
       "8  291.598703  "
      ]
     },
     "execution_count": 6,
     "metadata": {},
     "output_type": "execute_result"
    }
   ],
   "source": [
    "adv = df_train.advertiser.unique()\n",
    "adv\n",
    "table = pd.DataFrame(columns=['adv', 'costs', 'clicks', 'imps', 'conversion', 'CTR', 'CVR', 'avg_CPM', 'eCPC'])\n",
    "for i in range(len(adv)):\n",
    "    ad = adv[i]\n",
    "    df = df_train[df_train.advertiser == ad]\n",
    "    clicks = df.click.sum()\n",
    "    imps = df.bidid.count()\n",
    "    costs = df.payprice.sum() / 1000\n",
    "    conversion = df['logtype'][df.logtype == 3].count()\n",
    "    CTR = ((clicks / imps) * 100)\n",
    "    CVR = ((conversion / imps) * 100)\n",
    "    avg_CPM = ((costs / imps) * 1000)\n",
    "    eCPC = (costs / clicks)\n",
    "    table.loc[i] = [ad, costs, clicks, imps, conversion, CTR, CVR, avg_CPM, eCPC]\n",
    "table"
   ]
  },
  {
   "cell_type": "markdown",
   "metadata": {},
   "source": [
    "### Plotting several CTR related chart (user feedback)"
   ]
  },
  {
   "cell_type": "code",
   "execution_count": 7,
   "metadata": {
    "collapsed": true
   },
   "outputs": [],
   "source": [
    "advs = [1458, 3427]"
   ]
  },
  {
   "cell_type": "markdown",
   "metadata": {},
   "source": [
    "### Weekday"
   ]
  },
  {
   "cell_type": "code",
   "execution_count": 8,
   "metadata": {
    "collapsed": false
   },
   "outputs": [
    {
     "data": {
      "image/png": "[encoded data removed]",
      "text/plain": [
       "<matplotlib.figure.Figure at 0x24880b3f2e8>"
      ]
     },
     "metadata": {},
     "output_type": "display_data"
    }
   ],
   "source": [
    "dataframes = []\n",
    "for adv in advs:\n",
    "    df = df_train[df_train['advertiser'] == adv]\n",
    "    ctr = df.groupby('weekday').agg({'click':{'click':sum}, 'bidid': {'imps' : 'count'}})\n",
    "    ctr.columns = ctr.columns.droplevel(0)\n",
    "    ctr['ctr'] = (ctr.click / ctr.imps) * 100\n",
    "    dataframes.append(ctr)\n",
    "\n",
    "plt.plot(dataframes[0]['ctr'], label=str(advs[0]), marker='o')\n",
    "plt.plot(dataframes[1]['ctr'], label=str(advs[1]), marker='o')\n",
    "plt.ylabel('CTR')\n",
    "plt.xlabel('Weekdays')\n",
    "plt.margins(0.05)\n",
    "plt.legend()\n",
    "plt.show()"
   ]
  },
  {
   "cell_type": "markdown",
   "metadata": {},
   "source": [
    "### Hours"
   ]
  },
  {
   "cell_type": "code",
   "execution_count": 9,
   "metadata": {
    "collapsed": false
   },
   "outputs": [
    {
     "data": {
      "image/png": "[encoded data removed]",
      "text/plain": [
       "<matplotlib.figure.Figure at 0x24880b3f438>"
      ]
     },
     "metadata": {},
     "output_type": "display_data"
    }
   ],
   "source": [
    "dataframes = []\n",
    "for adv in advs:\n",
    "    df = df_train[df_train['advertiser'] == adv]\n",
    "    ctr = df.groupby('hour').agg({'click':{'click':sum}, 'bidid': {'imps' : 'count'}})\n",
    "    ctr.columns = ctr.columns.droplevel(0)\n",
    "    ctr['ctr'] = (ctr.click / ctr.imps) * 100\n",
    "    dataframes.append(ctr)\n",
    "\n",
    "plt.plot(dataframes[0]['ctr'], label=str(advs[0]), marker='o')\n",
    "plt.plot(dataframes[1]['ctr'], label=str(advs[1]), marker='o')\n",
    "plt.ylabel('CTR')\n",
    "plt.xlabel('Hours')\n",
    "plt.xticks(df.hour.unique())\n",
    "plt.margins(0.05)\n",
    "plt.legend()\n",
    "plt.show()"
   ]
  },
  {
   "cell_type": "markdown",
   "metadata": {},
   "source": [
    "### OS"
   ]
  },
  {
   "cell_type": "code",
   "execution_count": 10,
   "metadata": {
    "collapsed": false
   },
   "outputs": [
    {
     "name": "stderr",
     "output_type": "stream",
     "text": [
      "C:\\Anaconda3\\lib\\site-packages\\ipykernel\\__main__.py:7: SettingWithCopyWarning: \n",
      "A value is trying to be set on a copy of a slice from a DataFrame.\n",
      "Try using .loc[row_indexer,col_indexer] = value instead\n",
      "\n",
      "See the caveats in the documentation: http://pandas.pydata.org/pandas-docs/stable/indexing.html#indexing-view-versus-copy\n"
     ]
    },
    {
     "data": {
      "image/png": "[encoded data removed]",
      "text/plain": [
       "<matplotlib.figure.Figure at 0x24880b3f630>"
      ]
     },
     "metadata": {},
     "output_type": "display_data"
    }
   ],
   "source": [
    "dataframes = []\n",
    "df = None\n",
    "for adv in advs:\n",
    "    df = df_train[df_train['advertiser'] == adv]\n",
    "    os = list(df.useragent)\n",
    "    os = [x.split('_')[0] for x in os]\n",
    "    df['os'] = os\n",
    "    ctr = df.groupby('os').agg({'click':{'click':sum}, 'bidid': {'imps' : 'count'}})\n",
    "    ctr.columns = ctr.columns.droplevel(0)\n",
    "    ctr['ctr'] = (ctr.click / ctr.imps) * 100\n",
    "    dataframes.append(ctr)\n",
    "\n",
    "all_os = list(df.os.unique())\n",
    "all_os.sort()\n",
    "x = np.arange(len(all_os))\n",
    "width = 0.35\n",
    "\n",
    "plt.bar(x, dataframes[0]['ctr'], width=width, color='r', label=str(advs[0]))\n",
    "plt.bar(x + width, dataframes[1]['ctr'], width=width, color='y', label=str(advs[1]))\n",
    "plt.ylabel('CTR')\n",
    "plt.xlabel('OS')\n",
    "plt.xticks(x + width / 2, all_os)\n",
    "plt.margins(x=0.05)\n",
    "plt.legend()\n",
    "plt.show()"
   ]
  },
  {
   "cell_type": "markdown",
   "metadata": {},
   "source": [
    "### Browsers"
   ]
  },
  {
   "cell_type": "code",
   "execution_count": 11,
   "metadata": {
    "collapsed": false
   },
   "outputs": [
    {
     "name": "stderr",
     "output_type": "stream",
     "text": [
      "C:\\Anaconda3\\lib\\site-packages\\ipykernel\\__main__.py:7: SettingWithCopyWarning: \n",
      "A value is trying to be set on a copy of a slice from a DataFrame.\n",
      "Try using .loc[row_indexer,col_indexer] = value instead\n",
      "\n",
      "See the caveats in the documentation: http://pandas.pydata.org/pandas-docs/stable/indexing.html#indexing-view-versus-copy\n"
     ]
    },
    {
     "data": {
      "image/png": "[encoded data removed]",
      "text/plain": [
       "<matplotlib.figure.Figure at 0x24893936208>"
      ]
     },
     "metadata": {},
     "output_type": "display_data"
    }
   ],
   "source": [
    "dataframes = []\n",
    "df = None\n",
    "for adv in advs:\n",
    "    df = df_train[df_train['advertiser'] == adv]\n",
    "    browser = list(df.useragent)\n",
    "    browser = [x.split('_')[1] for x in browser]\n",
    "    df['browser'] = browser\n",
    "    ctr = df.groupby('browser').agg({'click':{'click':sum}, 'bidid': {'imps' : 'count'}})\n",
    "    ctr.columns = ctr.columns.droplevel(0)\n",
    "    ctr['ctr'] = (ctr.click / ctr.imps) * 100\n",
    "    dataframes.append(ctr)\n",
    "\n",
    "all_browser = list(df.browser.unique())\n",
    "all_browser.sort()\n",
    "x = np.arange(len(all_browser))\n",
    "width = 0.35\n",
    "\n",
    "plt.bar(x, dataframes[0]['ctr'], width=width, color='r', label=str(advs[0]))\n",
    "plt.bar(x + width, dataframes[1]['ctr'], width=width, color='y', label=str(advs[1]))\n",
    "plt.ylabel('CTR')\n",
    "plt.xlabel('Browser')\n",
    "plt.xticks(x + width / 2, all_browser, rotation=45)\n",
    "plt.margins(x=0.05)\n",
    "plt.legend()\n",
    "plt.show()"
   ]
  },
  {
   "cell_type": "markdown",
   "metadata": {},
   "source": [
    "### Regions"
   ]
  },
  {
   "cell_type": "code",
   "execution_count": 12,
   "metadata": {
    "collapsed": false
   },
   "outputs": [
    {
     "data": {
      "image/png": "[encoded data removed]",
      "text/plain": [
       "<matplotlib.figure.Figure at 0x2489393fe80>"
      ]
     },
     "metadata": {},
     "output_type": "display_data"
    }
   ],
   "source": [
    "dataframes = []\n",
    "df = None\n",
    "for adv in advs:\n",
    "    df = df_train[df_train['advertiser'] == adv]\n",
    "    ctr = df.groupby('region').agg({'click':{'click':sum}, 'bidid': {'imps' : 'count'}})\n",
    "    ctr.columns = ctr.columns.droplevel(0)\n",
    "    ctr['ctr'] = (ctr.click / ctr.imps) * 100\n",
    "    dataframes.append(ctr)\n",
    "    \n",
    "fig = plt.figure(figsize=(12, 4))\n",
    "ax = fig.add_subplot(111)\n",
    "x = np.arange(len(df.region.unique()))\n",
    "width = 0.35\n",
    "\n",
    "p1 = ax.bar(x, dataframes[0]['ctr'], width, color=(0, 1, 0), label=str(advs[0]))\n",
    "p2 = ax.bar(x, dataframes[1]['ctr'], width, color=(0, 0, 1), bottom=dataframes[0]['ctr'], label=str(advs[1]))\n",
    "ax.set_xlabel('Regions')\n",
    "ax.set_ylabel('CTR')\n",
    "ax.margins(x=0.01)\n",
    "ax.set_xticks(x + width/2.)\n",
    "ax.legend()\n",
    "l = list(df.region.unique())\n",
    "l.sort\n",
    "ax.set_xticklabels(l, rotation=45)\n",
    "\n",
    "plt.show()"
   ]
  },
  {
   "cell_type": "markdown",
   "metadata": {},
   "source": [
    "### Adexchange"
   ]
  },
  {
   "cell_type": "code",
   "execution_count": 13,
   "metadata": {
    "collapsed": false
   },
   "outputs": [
    {
     "data": {
      "image/png": "[encoded data removed]",
      "text/plain": [
       "<matplotlib.figure.Figure at 0x24880b3f5c0>"
      ]
     },
     "metadata": {},
     "output_type": "display_data"
    }
   ],
   "source": [
    "dataframes = []\n",
    "df = None\n",
    "for adv in advs:\n",
    "    df = df_train[df_train['advertiser'] == adv]\n",
    "    ctr = df.groupby('adexchange').agg({'click':{'click':sum}, 'bidid': {'imps' : 'count'}})\n",
    "    ctr.columns = ctr.columns.droplevel(0)\n",
    "    ctr['ctr'] = (ctr.click / ctr.imps) * 100\n",
    "    dataframes.append(ctr)\n",
    "\n",
    "all_adexchange = list(df.adexchange.unique())\n",
    "all_adexchange.sort()\n",
    "x = np.arange(len(all_adexchange))\n",
    "width = 0.35\n",
    "    \n",
    "plt.bar(x, dataframes[0]['ctr'], width=width, color='r', label=str(advs[0]))\n",
    "plt.bar(x + width, dataframes[1]['ctr'], width=width, color='y', label=str(advs[1]))\n",
    "plt.ylabel('CTR')\n",
    "plt.xlabel('Ad Exchange')\n",
    "plt.xticks(x + width/2., ['1','2','3'])\n",
    "plt.margins(x=0.05)\n",
    "plt.legend()\n",
    "plt.show()"
   ]
  },
  {
   "cell_type": "markdown",
   "metadata": {},
   "source": [
    "### SLotsize"
   ]
  },
  {
   "cell_type": "code",
   "execution_count": 15,
   "metadata": {
    "collapsed": false,
    "scrolled": false
   },
   "outputs": [
    {
     "data": {
      "image/png": "[encoded data removed]",
      "text/plain": [
       "<matplotlib.figure.Figure at 0x24880dd3358>"
      ]
     },
     "metadata": {},
     "output_type": "display_data"
    }
   ],
   "source": [
    "dataframes = []\n",
    "df = None\n",
    "for adv in advs:\n",
    "    df = df_train[df_train['advertiser'] == adv]\n",
    "    ctr = df.groupby(('slotwidth','slotheight'), as_index=False).agg({'click':{'click':sum}, 'bidid': {'imps' : 'count'}})\n",
    "    ctr.columns = ctr.columns.droplevel(0)\n",
    "    ctr['ctr'] = (ctr.click / ctr.imps) * 100\n",
    "    ctr.columns = ['slotwidth','slotheight','imps','click','ctr']\n",
    "    dataframes.append(ctr)\n",
    "\n",
    "new_df = pd.merge(dataframes[0], dataframes[1], how='outer', on=['slotwidth','slotheight'])\n",
    "new_df = new_df.fillna(0)\n",
    "\n",
    "labels = list(new_df[['slotwidth','slotheight']].values)\n",
    "labels_str = [str(l[0]) + 'x' + str(l[1]) for l in labels]\n",
    "labels_str\n",
    "\n",
    "fig = plt.figure(figsize=(12, 4))\n",
    "ax = fig.add_subplot(111)\n",
    "x = np.arange(len(new_df.slotwidth))\n",
    "width = 0.3\n",
    "\n",
    "p1 = ax.bar(x, new_df['ctr_x'], width, color=(0, 1, 0), label=advs[0])\n",
    "p2 = ax.bar(x, new_df['ctr_y'], width, color=(0, 0, 1), bottom=new_df['ctr_x'], label=advs[1])\n",
    "ax.set_xlabel('Slot Size')\n",
    "ax.set_ylabel('CTR')\n",
    "ax.margins(x=0.01)\n",
    "ax.set_xticks(x + width/2.)\n",
    "ax.legend()\n",
    "ax.set_xticklabels(labels_str, rotation=45)\n",
    "\n",
    "plt.show()\n"
   ]
  }
 ],
 "metadata": {
  "kernelspec": {
   "display_name": "Python 3",
   "language": "python",
   "name": "python3"
  },
  "language_info": {
   "codemirror_mode": {
    "name": "ipython",
    "version": 3
   },
   "file_extension": ".py",
   "mimetype": "text/x-python",
   "name": "python",
   "nbconvert_exporter": "python",
   "pygments_lexer": "ipython3",
   "version": "3.6.0"
  }
 },
 "nbformat": 4,
 "nbformat_minor": 2
}
