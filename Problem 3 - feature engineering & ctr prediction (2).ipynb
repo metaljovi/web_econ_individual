{
 "cells": [
  {
   "cell_type": "code",
   "execution_count": 1,
   "metadata": {
    "collapsed": true
   },
   "outputs": [],
   "source": [
    "%matplotlib inline\n",
    "\n",
    "import pandas as pd\n",
    "import matplotlib.pyplot as plt\n",
    "import numpy as np"
   ]
  },
  {
   "cell_type": "code",
   "execution_count": 2,
   "metadata": {
    "collapsed": false
   },
   "outputs": [],
   "source": [
    "df_train = pd.read_csv('data/train.csv')\n",
    "df_test = pd.read_csv('data/test.csv')\n",
    "df_val = pd.read_csv('data/validation.csv')"
   ]
  },
  {
   "cell_type": "markdown",
   "metadata": {},
   "source": [
    "## Feature engineering"
   ]
  },
  {
   "cell_type": "code",
   "execution_count": 3,
   "metadata": {
    "collapsed": true
   },
   "outputs": [],
   "source": [
    "def encode_days(dataframe):\n",
    "    dataframe = pd.concat([dataframe,pd.get_dummies(dataframe.weekday,prefix='day')],axis=1)\n",
    "    dataframe = dataframe.drop('weekday',axis=1)\n",
    "    return dataframe"
   ]
  },
  {
   "cell_type": "code",
   "execution_count": 4,
   "metadata": {
    "collapsed": true
   },
   "outputs": [],
   "source": [
    "def encode_hours(dataframe):\n",
    "    dataframe = pd.concat([dataframe,pd.get_dummies(dataframe.hour,prefix='hour')],axis=1)\n",
    "    dataframe = dataframe.drop('hour',axis=1)\n",
    "    return dataframe"
   ]
  },
  {
   "cell_type": "code",
   "execution_count": 5,
   "metadata": {
    "collapsed": true
   },
   "outputs": [],
   "source": [
    "def encode_region(dataframe):\n",
    "    dataframe = pd.concat([dataframe,pd.get_dummies(dataframe.region,prefix='region')],axis=1)\n",
    "    dataframe = dataframe.drop('region',axis=1)\n",
    "    return dataframe"
   ]
  },
  {
   "cell_type": "code",
   "execution_count": 6,
   "metadata": {
    "collapsed": true
   },
   "outputs": [],
   "source": [
    "def encode_adexchange(dataframe):\n",
    "    dataframe = pd.concat([dataframe,pd.get_dummies(dataframe.adexchange,prefix='adexchange')],axis=1)\n",
    "    dataframe = dataframe.drop('adexchange',axis=1)\n",
    "    return dataframe"
   ]
  },
  {
   "cell_type": "code",
   "execution_count": 7,
   "metadata": {
    "collapsed": true
   },
   "outputs": [],
   "source": [
    "def encode_slotwidth(dataframe):\n",
    "    dataframe = pd.concat([dataframe,pd.get_dummies(dataframe.slotwidth,prefix='slotwidth')],axis=1)\n",
    "    dataframe = dataframe.drop('slotwidth',axis=1)\n",
    "    return dataframe"
   ]
  },
  {
   "cell_type": "code",
   "execution_count": 8,
   "metadata": {
    "collapsed": true
   },
   "outputs": [],
   "source": [
    "def encode_slotheight(dataframe):\n",
    "    dataframe = pd.concat([dataframe,pd.get_dummies(dataframe.slotheight,prefix='slotheight')],axis=1)\n",
    "    dataframe = dataframe.drop('slotheight',axis=1)\n",
    "    return dataframe"
   ]
  },
  {
   "cell_type": "code",
   "execution_count": 9,
   "metadata": {
    "collapsed": true
   },
   "outputs": [],
   "source": [
    "def encode_advertiser(dataframe):\n",
    "    dataframe = pd.concat([dataframe,pd.get_dummies(dataframe.advertiser,prefix='advertiser')],axis=1)\n",
    "    dataframe = dataframe.drop('advertiser',axis=1)\n",
    "    return dataframe"
   ]
  },
  {
   "cell_type": "code",
   "execution_count": 10,
   "metadata": {
    "collapsed": true
   },
   "outputs": [],
   "source": [
    "def encode_slotvisibility(dataframe):\n",
    "    dataframe = pd.concat([dataframe,pd.get_dummies(dataframe.slotvisibility,prefix='slotvisibility')],axis=1)\n",
    "    dataframe = dataframe.drop('slotvisibility',axis=1)\n",
    "    return dataframe"
   ]
  },
  {
   "cell_type": "code",
   "execution_count": 11,
   "metadata": {
    "collapsed": true
   },
   "outputs": [],
   "source": [
    "def encode_slotformat(dataframe):\n",
    "    dataframe = pd.concat([dataframe,pd.get_dummies(dataframe.slotformat,prefix='slotformat')],axis=1)\n",
    "    dataframe = dataframe.drop('slotformat',axis=1)\n",
    "    return dataframe"
   ]
  },
  {
   "cell_type": "code",
   "execution_count": 12,
   "metadata": {
    "collapsed": false
   },
   "outputs": [],
   "source": [
    "def encode_os_browser(dataframe):\n",
    "    df_temp = pd.DataFrame(dataframe.useragent.str.split('_',1).tolist(), columns = ['OS','browser'])\n",
    "    dataframe = pd.concat([dataframe,df_temp],axis=1)\n",
    "    dataframe = dataframe.drop('useragent',axis=1)\n",
    "    dataframe = pd.concat([dataframe,pd.get_dummies(dataframe.OS,prefix='OS')],axis=1)\n",
    "    dataframe = dataframe.drop('OS',axis=1)\n",
    "    dataframe = pd.concat([dataframe,pd.get_dummies(dataframe.browser,prefix='browser')],axis=1)\n",
    "    dataframe = dataframe.drop('browser',axis=1)\n",
    "    return dataframe"
   ]
  },
  {
   "cell_type": "code",
   "execution_count": 13,
   "metadata": {
    "collapsed": true
   },
   "outputs": [],
   "source": [
    "# 12. Encode slotprice into 5 ranges\n",
    "def encode_slotprice(dataframe):\n",
    "    slotprice_range = pd.DataFrame()\n",
    "    slotprice_range['slotprices'] = pd.cut(dataframe.slotprice.values,5, labels=[1,2,3,4,5])\n",
    "    dataframe = pd.concat([dataframe,slotprice_range],axis=1)\n",
    "    dataframe = pd.concat([dataframe,pd.get_dummies(dataframe.slotprices,prefix='slotprice')],axis=1)\n",
    "    dataframe = dataframe.drop('slotprice',axis=1)\n",
    "    dataframe = dataframe.drop('slotprices',axis=1)\n",
    "    return dataframe"
   ]
  },
  {
   "cell_type": "code",
   "execution_count": 14,
   "metadata": {
    "collapsed": false
   },
   "outputs": [],
   "source": [
    "def encode_usertags(dataframe):\n",
    "    usertags = list(dataframe.usertag)\n",
    "    unique_users = set()\n",
    "    list_users = []\n",
    "    for user in usertags:\n",
    "        u = user.split(',')\n",
    "        list_users.append(u)\n",
    "        for us in u:\n",
    "            unique_users.add(us)\n",
    "    users = pd.DataFrame()\n",
    "    for user in unique_users:\n",
    "        users[\"user_\"+user] = 0\n",
    "    dataframe = pd.concat([dataframe,users],axis=1)\n",
    "    for user in unique_users:\n",
    "        datas = []\n",
    "        for users in list_users:\n",
    "            if user in users:\n",
    "                datas.append(1)\n",
    "            else:\n",
    "                datas.append(0)\n",
    "        dataframe[\"user_\"+user] = datas\n",
    "    dataframe = dataframe.drop('usertag',axis=1)\n",
    "    return dataframe"
   ]
  },
  {
   "cell_type": "code",
   "execution_count": 15,
   "metadata": {
    "collapsed": false
   },
   "outputs": [],
   "source": [
    "xtrain = df_train.drop(['click','bidid','logtype','userid','IP','city','domain', 'url','urlid','slotid','creative','bidprice','payprice','keypage'], axis=1)\n",
    "ytrain = df_train.click\n",
    "\n",
    "xval = df_val.drop(['click','bidid','logtype','userid','IP','city','domain', 'url','urlid','slotid','creative','bidprice','payprice','keypage'], axis=1)\n",
    "yval = df_val.click\n",
    "\n",
    "xtest = df_test.drop(['bidid','logtype','userid','IP','city','domain', 'url','urlid','slotid','creative','keypage'], axis=1)"
   ]
  },
  {
   "cell_type": "code",
   "execution_count": 16,
   "metadata": {
    "collapsed": false
   },
   "outputs": [
    {
     "data": {
      "text/html": [
       "<div>\n",
       "<table border=\"1\" class=\"dataframe\">\n",
       "  <thead>\n",
       "    <tr style=\"text-align: right;\">\n",
       "      <th></th>\n",
       "      <th>adexchange_1</th>\n",
       "      <th>adexchange_2</th>\n",
       "      <th>adexchange_3</th>\n",
       "      <th>adexchange_4</th>\n",
       "      <th>adexchange_null</th>\n",
       "      <th>advertiser_1458</th>\n",
       "      <th>advertiser_2259</th>\n",
       "      <th>advertiser_2261</th>\n",
       "      <th>advertiser_2821</th>\n",
       "      <th>advertiser_2997</th>\n",
       "      <th>...</th>\n",
       "      <th>user_10130</th>\n",
       "      <th>user_10145</th>\n",
       "      <th>user_10067</th>\n",
       "      <th>user_10120</th>\n",
       "      <th>user_10146</th>\n",
       "      <th>user_16753</th>\n",
       "      <th>user_13678</th>\n",
       "      <th>user_10115</th>\n",
       "      <th>user_null</th>\n",
       "      <th>user_11632</th>\n",
       "    </tr>\n",
       "  </thead>\n",
       "  <tbody>\n",
       "    <tr>\n",
       "      <th>0</th>\n",
       "      <td>0</td>\n",
       "      <td>1</td>\n",
       "      <td>0</td>\n",
       "      <td>0</td>\n",
       "      <td>0</td>\n",
       "      <td>1</td>\n",
       "      <td>0</td>\n",
       "      <td>0</td>\n",
       "      <td>0</td>\n",
       "      <td>0</td>\n",
       "      <td>...</td>\n",
       "      <td>0</td>\n",
       "      <td>0</td>\n",
       "      <td>0</td>\n",
       "      <td>0</td>\n",
       "      <td>0</td>\n",
       "      <td>0</td>\n",
       "      <td>0</td>\n",
       "      <td>0</td>\n",
       "      <td>0</td>\n",
       "      <td>0</td>\n",
       "    </tr>\n",
       "    <tr>\n",
       "      <th>1</th>\n",
       "      <td>0</td>\n",
       "      <td>1</td>\n",
       "      <td>0</td>\n",
       "      <td>0</td>\n",
       "      <td>0</td>\n",
       "      <td>0</td>\n",
       "      <td>0</td>\n",
       "      <td>0</td>\n",
       "      <td>0</td>\n",
       "      <td>0</td>\n",
       "      <td>...</td>\n",
       "      <td>0</td>\n",
       "      <td>0</td>\n",
       "      <td>0</td>\n",
       "      <td>0</td>\n",
       "      <td>0</td>\n",
       "      <td>0</td>\n",
       "      <td>0</td>\n",
       "      <td>0</td>\n",
       "      <td>0</td>\n",
       "      <td>0</td>\n",
       "    </tr>\n",
       "    <tr>\n",
       "      <th>2</th>\n",
       "      <td>1</td>\n",
       "      <td>0</td>\n",
       "      <td>0</td>\n",
       "      <td>0</td>\n",
       "      <td>0</td>\n",
       "      <td>1</td>\n",
       "      <td>0</td>\n",
       "      <td>0</td>\n",
       "      <td>0</td>\n",
       "      <td>0</td>\n",
       "      <td>...</td>\n",
       "      <td>0</td>\n",
       "      <td>0</td>\n",
       "      <td>0</td>\n",
       "      <td>0</td>\n",
       "      <td>0</td>\n",
       "      <td>0</td>\n",
       "      <td>0</td>\n",
       "      <td>0</td>\n",
       "      <td>0</td>\n",
       "      <td>0</td>\n",
       "    </tr>\n",
       "    <tr>\n",
       "      <th>3</th>\n",
       "      <td>0</td>\n",
       "      <td>1</td>\n",
       "      <td>0</td>\n",
       "      <td>0</td>\n",
       "      <td>0</td>\n",
       "      <td>0</td>\n",
       "      <td>0</td>\n",
       "      <td>0</td>\n",
       "      <td>0</td>\n",
       "      <td>0</td>\n",
       "      <td>...</td>\n",
       "      <td>0</td>\n",
       "      <td>0</td>\n",
       "      <td>0</td>\n",
       "      <td>0</td>\n",
       "      <td>0</td>\n",
       "      <td>0</td>\n",
       "      <td>0</td>\n",
       "      <td>0</td>\n",
       "      <td>0</td>\n",
       "      <td>0</td>\n",
       "    </tr>\n",
       "    <tr>\n",
       "      <th>4</th>\n",
       "      <td>1</td>\n",
       "      <td>0</td>\n",
       "      <td>0</td>\n",
       "      <td>0</td>\n",
       "      <td>0</td>\n",
       "      <td>0</td>\n",
       "      <td>0</td>\n",
       "      <td>0</td>\n",
       "      <td>0</td>\n",
       "      <td>0</td>\n",
       "      <td>...</td>\n",
       "      <td>0</td>\n",
       "      <td>0</td>\n",
       "      <td>0</td>\n",
       "      <td>0</td>\n",
       "      <td>0</td>\n",
       "      <td>0</td>\n",
       "      <td>0</td>\n",
       "      <td>0</td>\n",
       "      <td>0</td>\n",
       "      <td>0</td>\n",
       "    </tr>\n",
       "  </tbody>\n",
       "</table>\n",
       "<p>5 rows × 219 columns</p>\n",
       "</div>"
      ],
      "text/plain": [
       "   adexchange_1  adexchange_2  adexchange_3  adexchange_4  adexchange_null  \\\n",
       "0             0             1             0             0                0   \n",
       "1             0             1             0             0                0   \n",
       "2             1             0             0             0                0   \n",
       "3             0             1             0             0                0   \n",
       "4             1             0             0             0                0   \n",
       "\n",
       "   advertiser_1458  advertiser_2259  advertiser_2261  advertiser_2821  \\\n",
       "0                1                0                0                0   \n",
       "1                0                0                0                0   \n",
       "2                1                0                0                0   \n",
       "3                0                0                0                0   \n",
       "4                0                0                0                0   \n",
       "\n",
       "   advertiser_2997     ...      user_10130  user_10145  user_10067  \\\n",
       "0                0     ...               0           0           0   \n",
       "1                0     ...               0           0           0   \n",
       "2                0     ...               0           0           0   \n",
       "3                0     ...               0           0           0   \n",
       "4                0     ...               0           0           0   \n",
       "\n",
       "   user_10120  user_10146  user_16753  user_13678  user_10115  user_null  \\\n",
       "0           0           0           0           0           0          0   \n",
       "1           0           0           0           0           0          0   \n",
       "2           0           0           0           0           0          0   \n",
       "3           0           0           0           0           0          0   \n",
       "4           0           0           0           0           0          0   \n",
       "\n",
       "   user_11632  \n",
       "0           0  \n",
       "1           0  \n",
       "2           0  \n",
       "3           0  \n",
       "4           0  \n",
       "\n",
       "[5 rows x 219 columns]"
      ]
     },
     "execution_count": 16,
     "metadata": {},
     "output_type": "execute_result"
    }
   ],
   "source": [
    "xtrain = encode_adexchange(xtrain)\n",
    "xtrain = encode_advertiser(xtrain)\n",
    "xtrain = encode_days(xtrain)\n",
    "xtrain = encode_hours(xtrain)\n",
    "xtrain = encode_os_browser(xtrain)\n",
    "xtrain = encode_region(xtrain)\n",
    "xtrain = encode_slotformat(xtrain)\n",
    "xtrain = encode_slotheight(xtrain)\n",
    "xtrain = encode_slotprice(xtrain)\n",
    "xtrain = encode_slotvisibility(xtrain)\n",
    "xtrain = encode_slotwidth(xtrain)\n",
    "xtrain = encode_usertags(xtrain)\n",
    "xtrain.head()"
   ]
  },
  {
   "cell_type": "code",
   "execution_count": 17,
   "metadata": {
    "collapsed": false
   },
   "outputs": [
    {
     "data": {
      "text/html": [
       "<div>\n",
       "<table border=\"1\" class=\"dataframe\">\n",
       "  <thead>\n",
       "    <tr style=\"text-align: right;\">\n",
       "      <th></th>\n",
       "      <th>adexchange_1</th>\n",
       "      <th>adexchange_2</th>\n",
       "      <th>adexchange_3</th>\n",
       "      <th>adexchange_4</th>\n",
       "      <th>adexchange_null</th>\n",
       "      <th>advertiser_1458</th>\n",
       "      <th>advertiser_2259</th>\n",
       "      <th>advertiser_2261</th>\n",
       "      <th>advertiser_2821</th>\n",
       "      <th>advertiser_2997</th>\n",
       "      <th>...</th>\n",
       "      <th>user_10130</th>\n",
       "      <th>user_10067</th>\n",
       "      <th>user_16753</th>\n",
       "      <th>user_10146</th>\n",
       "      <th>user_10120</th>\n",
       "      <th>user_10145</th>\n",
       "      <th>user_13678</th>\n",
       "      <th>user_10115</th>\n",
       "      <th>user_null</th>\n",
       "      <th>user_11632</th>\n",
       "    </tr>\n",
       "  </thead>\n",
       "  <tbody>\n",
       "    <tr>\n",
       "      <th>0</th>\n",
       "      <td>1</td>\n",
       "      <td>0</td>\n",
       "      <td>0</td>\n",
       "      <td>0</td>\n",
       "      <td>0</td>\n",
       "      <td>0</td>\n",
       "      <td>0</td>\n",
       "      <td>0</td>\n",
       "      <td>0</td>\n",
       "      <td>0</td>\n",
       "      <td>...</td>\n",
       "      <td>0</td>\n",
       "      <td>0</td>\n",
       "      <td>0</td>\n",
       "      <td>0</td>\n",
       "      <td>0</td>\n",
       "      <td>0</td>\n",
       "      <td>0</td>\n",
       "      <td>0</td>\n",
       "      <td>0</td>\n",
       "      <td>0</td>\n",
       "    </tr>\n",
       "    <tr>\n",
       "      <th>1</th>\n",
       "      <td>0</td>\n",
       "      <td>0</td>\n",
       "      <td>0</td>\n",
       "      <td>0</td>\n",
       "      <td>1</td>\n",
       "      <td>0</td>\n",
       "      <td>0</td>\n",
       "      <td>0</td>\n",
       "      <td>0</td>\n",
       "      <td>1</td>\n",
       "      <td>...</td>\n",
       "      <td>0</td>\n",
       "      <td>0</td>\n",
       "      <td>0</td>\n",
       "      <td>0</td>\n",
       "      <td>0</td>\n",
       "      <td>0</td>\n",
       "      <td>0</td>\n",
       "      <td>0</td>\n",
       "      <td>1</td>\n",
       "      <td>0</td>\n",
       "    </tr>\n",
       "    <tr>\n",
       "      <th>2</th>\n",
       "      <td>0</td>\n",
       "      <td>0</td>\n",
       "      <td>1</td>\n",
       "      <td>0</td>\n",
       "      <td>0</td>\n",
       "      <td>0</td>\n",
       "      <td>0</td>\n",
       "      <td>0</td>\n",
       "      <td>0</td>\n",
       "      <td>0</td>\n",
       "      <td>...</td>\n",
       "      <td>0</td>\n",
       "      <td>0</td>\n",
       "      <td>0</td>\n",
       "      <td>0</td>\n",
       "      <td>0</td>\n",
       "      <td>0</td>\n",
       "      <td>0</td>\n",
       "      <td>0</td>\n",
       "      <td>1</td>\n",
       "      <td>0</td>\n",
       "    </tr>\n",
       "    <tr>\n",
       "      <th>3</th>\n",
       "      <td>0</td>\n",
       "      <td>0</td>\n",
       "      <td>1</td>\n",
       "      <td>0</td>\n",
       "      <td>0</td>\n",
       "      <td>0</td>\n",
       "      <td>0</td>\n",
       "      <td>0</td>\n",
       "      <td>0</td>\n",
       "      <td>0</td>\n",
       "      <td>...</td>\n",
       "      <td>0</td>\n",
       "      <td>0</td>\n",
       "      <td>0</td>\n",
       "      <td>0</td>\n",
       "      <td>0</td>\n",
       "      <td>0</td>\n",
       "      <td>0</td>\n",
       "      <td>0</td>\n",
       "      <td>1</td>\n",
       "      <td>0</td>\n",
       "    </tr>\n",
       "    <tr>\n",
       "      <th>4</th>\n",
       "      <td>0</td>\n",
       "      <td>1</td>\n",
       "      <td>0</td>\n",
       "      <td>0</td>\n",
       "      <td>0</td>\n",
       "      <td>0</td>\n",
       "      <td>0</td>\n",
       "      <td>0</td>\n",
       "      <td>0</td>\n",
       "      <td>0</td>\n",
       "      <td>...</td>\n",
       "      <td>0</td>\n",
       "      <td>0</td>\n",
       "      <td>0</td>\n",
       "      <td>0</td>\n",
       "      <td>0</td>\n",
       "      <td>0</td>\n",
       "      <td>0</td>\n",
       "      <td>0</td>\n",
       "      <td>1</td>\n",
       "      <td>0</td>\n",
       "    </tr>\n",
       "  </tbody>\n",
       "</table>\n",
       "<p>5 rows × 219 columns</p>\n",
       "</div>"
      ],
      "text/plain": [
       "   adexchange_1  adexchange_2  adexchange_3  adexchange_4  adexchange_null  \\\n",
       "0             1             0             0             0                0   \n",
       "1             0             0             0             0                1   \n",
       "2             0             0             1             0                0   \n",
       "3             0             0             1             0                0   \n",
       "4             0             1             0             0                0   \n",
       "\n",
       "   advertiser_1458  advertiser_2259  advertiser_2261  advertiser_2821  \\\n",
       "0                0                0                0                0   \n",
       "1                0                0                0                0   \n",
       "2                0                0                0                0   \n",
       "3                0                0                0                0   \n",
       "4                0                0                0                0   \n",
       "\n",
       "   advertiser_2997     ...      user_10130  user_10067  user_16753  \\\n",
       "0                0     ...               0           0           0   \n",
       "1                1     ...               0           0           0   \n",
       "2                0     ...               0           0           0   \n",
       "3                0     ...               0           0           0   \n",
       "4                0     ...               0           0           0   \n",
       "\n",
       "   user_10146  user_10120  user_10145  user_13678  user_10115  user_null  \\\n",
       "0           0           0           0           0           0          0   \n",
       "1           0           0           0           0           0          1   \n",
       "2           0           0           0           0           0          1   \n",
       "3           0           0           0           0           0          1   \n",
       "4           0           0           0           0           0          1   \n",
       "\n",
       "   user_11632  \n",
       "0           0  \n",
       "1           0  \n",
       "2           0  \n",
       "3           0  \n",
       "4           0  \n",
       "\n",
       "[5 rows x 219 columns]"
      ]
     },
     "execution_count": 17,
     "metadata": {},
     "output_type": "execute_result"
    }
   ],
   "source": [
    "xval = encode_adexchange(xval)\n",
    "xval = encode_advertiser(xval)\n",
    "xval = encode_days(xval)\n",
    "xval = encode_hours(xval)\n",
    "xval = encode_os_browser(xval)\n",
    "xval = encode_region(xval)\n",
    "xval = encode_slotformat(xval)\n",
    "xval = encode_slotheight(xval)\n",
    "xval = encode_slotprice(xval)\n",
    "xval = encode_slotvisibility(xval)\n",
    "xval = encode_slotwidth(xval)\n",
    "xval = encode_usertags(xval)\n",
    "xval.head()"
   ]
  },
  {
   "cell_type": "code",
   "execution_count": 18,
   "metadata": {
    "collapsed": false
   },
   "outputs": [
    {
     "data": {
      "text/html": [
       "<div>\n",
       "<table border=\"1\" class=\"dataframe\">\n",
       "  <thead>\n",
       "    <tr style=\"text-align: right;\">\n",
       "      <th></th>\n",
       "      <th>adexchange_1</th>\n",
       "      <th>adexchange_2</th>\n",
       "      <th>adexchange_3</th>\n",
       "      <th>adexchange_4</th>\n",
       "      <th>adexchange_null</th>\n",
       "      <th>advertiser_1458</th>\n",
       "      <th>advertiser_2259</th>\n",
       "      <th>advertiser_2261</th>\n",
       "      <th>advertiser_2821</th>\n",
       "      <th>advertiser_2997</th>\n",
       "      <th>...</th>\n",
       "      <th>user_11278</th>\n",
       "      <th>user_10130</th>\n",
       "      <th>user_10067</th>\n",
       "      <th>user_16753</th>\n",
       "      <th>user_10120</th>\n",
       "      <th>user_10146</th>\n",
       "      <th>user_13678</th>\n",
       "      <th>user_10115</th>\n",
       "      <th>user_10145</th>\n",
       "      <th>user_11632</th>\n",
       "    </tr>\n",
       "  </thead>\n",
       "  <tbody>\n",
       "    <tr>\n",
       "      <th>0</th>\n",
       "      <td>1</td>\n",
       "      <td>0</td>\n",
       "      <td>0</td>\n",
       "      <td>0</td>\n",
       "      <td>0</td>\n",
       "      <td>0</td>\n",
       "      <td>0</td>\n",
       "      <td>0</td>\n",
       "      <td>0</td>\n",
       "      <td>0</td>\n",
       "      <td>...</td>\n",
       "      <td>0</td>\n",
       "      <td>0</td>\n",
       "      <td>0</td>\n",
       "      <td>0</td>\n",
       "      <td>0</td>\n",
       "      <td>0</td>\n",
       "      <td>0</td>\n",
       "      <td>0</td>\n",
       "      <td>0</td>\n",
       "      <td>0</td>\n",
       "    </tr>\n",
       "    <tr>\n",
       "      <th>1</th>\n",
       "      <td>0</td>\n",
       "      <td>0</td>\n",
       "      <td>1</td>\n",
       "      <td>0</td>\n",
       "      <td>0</td>\n",
       "      <td>1</td>\n",
       "      <td>0</td>\n",
       "      <td>0</td>\n",
       "      <td>0</td>\n",
       "      <td>0</td>\n",
       "      <td>...</td>\n",
       "      <td>0</td>\n",
       "      <td>0</td>\n",
       "      <td>0</td>\n",
       "      <td>0</td>\n",
       "      <td>0</td>\n",
       "      <td>0</td>\n",
       "      <td>0</td>\n",
       "      <td>0</td>\n",
       "      <td>0</td>\n",
       "      <td>0</td>\n",
       "    </tr>\n",
       "    <tr>\n",
       "      <th>2</th>\n",
       "      <td>0</td>\n",
       "      <td>0</td>\n",
       "      <td>1</td>\n",
       "      <td>0</td>\n",
       "      <td>0</td>\n",
       "      <td>0</td>\n",
       "      <td>0</td>\n",
       "      <td>0</td>\n",
       "      <td>0</td>\n",
       "      <td>0</td>\n",
       "      <td>...</td>\n",
       "      <td>0</td>\n",
       "      <td>0</td>\n",
       "      <td>0</td>\n",
       "      <td>0</td>\n",
       "      <td>0</td>\n",
       "      <td>0</td>\n",
       "      <td>0</td>\n",
       "      <td>0</td>\n",
       "      <td>0</td>\n",
       "      <td>0</td>\n",
       "    </tr>\n",
       "    <tr>\n",
       "      <th>3</th>\n",
       "      <td>1</td>\n",
       "      <td>0</td>\n",
       "      <td>0</td>\n",
       "      <td>0</td>\n",
       "      <td>0</td>\n",
       "      <td>0</td>\n",
       "      <td>0</td>\n",
       "      <td>0</td>\n",
       "      <td>0</td>\n",
       "      <td>0</td>\n",
       "      <td>...</td>\n",
       "      <td>0</td>\n",
       "      <td>0</td>\n",
       "      <td>0</td>\n",
       "      <td>0</td>\n",
       "      <td>0</td>\n",
       "      <td>0</td>\n",
       "      <td>0</td>\n",
       "      <td>0</td>\n",
       "      <td>0</td>\n",
       "      <td>0</td>\n",
       "    </tr>\n",
       "    <tr>\n",
       "      <th>4</th>\n",
       "      <td>0</td>\n",
       "      <td>0</td>\n",
       "      <td>1</td>\n",
       "      <td>0</td>\n",
       "      <td>0</td>\n",
       "      <td>0</td>\n",
       "      <td>0</td>\n",
       "      <td>0</td>\n",
       "      <td>0</td>\n",
       "      <td>0</td>\n",
       "      <td>...</td>\n",
       "      <td>0</td>\n",
       "      <td>0</td>\n",
       "      <td>0</td>\n",
       "      <td>0</td>\n",
       "      <td>0</td>\n",
       "      <td>0</td>\n",
       "      <td>0</td>\n",
       "      <td>0</td>\n",
       "      <td>0</td>\n",
       "      <td>0</td>\n",
       "    </tr>\n",
       "  </tbody>\n",
       "</table>\n",
       "<p>5 rows × 219 columns</p>\n",
       "</div>"
      ],
      "text/plain": [
       "   adexchange_1  adexchange_2  adexchange_3  adexchange_4  adexchange_null  \\\n",
       "0             1             0             0             0                0   \n",
       "1             0             0             1             0                0   \n",
       "2             0             0             1             0                0   \n",
       "3             1             0             0             0                0   \n",
       "4             0             0             1             0                0   \n",
       "\n",
       "   advertiser_1458  advertiser_2259  advertiser_2261  advertiser_2821  \\\n",
       "0                0                0                0                0   \n",
       "1                1                0                0                0   \n",
       "2                0                0                0                0   \n",
       "3                0                0                0                0   \n",
       "4                0                0                0                0   \n",
       "\n",
       "   advertiser_2997     ...      user_11278  user_10130  user_10067  \\\n",
       "0                0     ...               0           0           0   \n",
       "1                0     ...               0           0           0   \n",
       "2                0     ...               0           0           0   \n",
       "3                0     ...               0           0           0   \n",
       "4                0     ...               0           0           0   \n",
       "\n",
       "   user_16753  user_10120  user_10146  user_13678  user_10115  user_10145  \\\n",
       "0           0           0           0           0           0           0   \n",
       "1           0           0           0           0           0           0   \n",
       "2           0           0           0           0           0           0   \n",
       "3           0           0           0           0           0           0   \n",
       "4           0           0           0           0           0           0   \n",
       "\n",
       "   user_11632  \n",
       "0           0  \n",
       "1           0  \n",
       "2           0  \n",
       "3           0  \n",
       "4           0  \n",
       "\n",
       "[5 rows x 219 columns]"
      ]
     },
     "execution_count": 18,
     "metadata": {},
     "output_type": "execute_result"
    }
   ],
   "source": [
    "xtest = encode_adexchange(xtest)\n",
    "xtest = encode_advertiser(xtest)\n",
    "xtest = encode_days(xtest)\n",
    "xtest = encode_hours(xtest)\n",
    "xtest = encode_os_browser(xtest)\n",
    "xtest = encode_region(xtest)\n",
    "xtest = encode_slotformat(xtest)\n",
    "xtest = encode_slotheight(xtest)\n",
    "xtest = encode_slotprice(xtest)\n",
    "xtest = encode_slotvisibility(xtest)\n",
    "xtest = encode_slotwidth(xtest)\n",
    "xtest = encode_usertags(xtest)\n",
    "xtest.head()"
   ]
  },
  {
   "cell_type": "markdown",
   "metadata": {},
   "source": [
    "## PCTR prediction using logistic regression"
   ]
  },
  {
   "cell_type": "code",
   "execution_count": 24,
   "metadata": {
    "collapsed": false
   },
   "outputs": [],
   "source": [
    "#run on validation set\n",
    "from sklearn.linear_model import LogisticRegression \n",
    "model = LogisticRegression(penalty='l2', class_weight='balanced')\n",
    "resultval = model.fit(xtrain, ytrain).predict(xval)"
   ]
  },
  {
   "cell_type": "code",
   "execution_count": 25,
   "metadata": {
    "collapsed": true
   },
   "outputs": [],
   "source": [
    "#run on test set\n",
    "resulttest = model.fit(xtrain, ytrain).predict(xtest)"
   ]
  },
  {
   "cell_type": "code",
   "execution_count": 28,
   "metadata": {
    "collapsed": false
   },
   "outputs": [
    {
     "data": {
      "text/html": [
       "<div>\n",
       "<table border=\"1\" class=\"dataframe\">\n",
       "  <thead>\n",
       "    <tr style=\"text-align: right;\">\n",
       "      <th></th>\n",
       "      <th>0</th>\n",
       "      <th>1</th>\n",
       "    </tr>\n",
       "  </thead>\n",
       "  <tbody>\n",
       "    <tr>\n",
       "      <th>0</th>\n",
       "      <td>0.826842</td>\n",
       "      <td>0.173158</td>\n",
       "    </tr>\n",
       "    <tr>\n",
       "      <th>1</th>\n",
       "      <td>0.092488</td>\n",
       "      <td>0.907512</td>\n",
       "    </tr>\n",
       "    <tr>\n",
       "      <th>2</th>\n",
       "      <td>0.476269</td>\n",
       "      <td>0.523731</td>\n",
       "    </tr>\n",
       "    <tr>\n",
       "      <th>3</th>\n",
       "      <td>0.476453</td>\n",
       "      <td>0.523547</td>\n",
       "    </tr>\n",
       "    <tr>\n",
       "      <th>4</th>\n",
       "      <td>0.626051</td>\n",
       "      <td>0.373949</td>\n",
       "    </tr>\n",
       "  </tbody>\n",
       "</table>\n",
       "</div>"
      ],
      "text/plain": [
       "          0         1\n",
       "0  0.826842  0.173158\n",
       "1  0.092488  0.907512\n",
       "2  0.476269  0.523731\n",
       "3  0.476453  0.523547\n",
       "4  0.626051  0.373949"
      ]
     },
     "execution_count": 28,
     "metadata": {},
     "output_type": "execute_result"
    }
   ],
   "source": [
    "predprob = model.predict_proba(xval)\n",
    "\n",
    "pCTRval = pd.DataFrame(predprob)\n",
    "pCTRval.head()"
   ]
  },
  {
   "cell_type": "code",
   "execution_count": 33,
   "metadata": {
    "collapsed": false
   },
   "outputs": [
    {
     "data": {
      "text/plain": [
       "0.83500209285566407"
      ]
     },
     "execution_count": 33,
     "metadata": {},
     "output_type": "execute_result"
    }
   ],
   "source": [
    "#print AUc score\n",
    "from sklearn import metrics\n",
    "fpr, tpr, thresholds = metrics.roc_curve(df_val.click, pCTRval[1])\n",
    "metrics.auc(fpr, tpr)"
   ]
  },
  {
   "cell_type": "code",
   "execution_count": 29,
   "metadata": {
    "collapsed": false
   },
   "outputs": [
    {
     "data": {
      "text/html": [
       "<div>\n",
       "<table border=\"1\" class=\"dataframe\">\n",
       "  <thead>\n",
       "    <tr style=\"text-align: right;\">\n",
       "      <th></th>\n",
       "      <th>0</th>\n",
       "      <th>1</th>\n",
       "    </tr>\n",
       "  </thead>\n",
       "  <tbody>\n",
       "    <tr>\n",
       "      <th>0</th>\n",
       "      <td>0.437405</td>\n",
       "      <td>0.562595</td>\n",
       "    </tr>\n",
       "    <tr>\n",
       "      <th>1</th>\n",
       "      <td>0.723582</td>\n",
       "      <td>0.276418</td>\n",
       "    </tr>\n",
       "    <tr>\n",
       "      <th>2</th>\n",
       "      <td>0.654728</td>\n",
       "      <td>0.345272</td>\n",
       "    </tr>\n",
       "    <tr>\n",
       "      <th>3</th>\n",
       "      <td>0.738106</td>\n",
       "      <td>0.261894</td>\n",
       "    </tr>\n",
       "    <tr>\n",
       "      <th>4</th>\n",
       "      <td>0.614396</td>\n",
       "      <td>0.385604</td>\n",
       "    </tr>\n",
       "  </tbody>\n",
       "</table>\n",
       "</div>"
      ],
      "text/plain": [
       "          0         1\n",
       "0  0.437405  0.562595\n",
       "1  0.723582  0.276418\n",
       "2  0.654728  0.345272\n",
       "3  0.738106  0.261894\n",
       "4  0.614396  0.385604"
      ]
     },
     "execution_count": 29,
     "metadata": {},
     "output_type": "execute_result"
    }
   ],
   "source": [
    "predprob = model.predict_proba(xtest)\n",
    "\n",
    "pCTRtest = pd.DataFrame(predprob)\n",
    "pCTRtest.head()"
   ]
  },
  {
   "cell_type": "code",
   "execution_count": 37,
   "metadata": {
    "collapsed": true
   },
   "outputs": [],
   "source": [
    "#recalibrate the pctr\n",
    "#newpctr = pctr / ( pctr + (1-pctr)/balance_ratio)\n",
    "\n",
    "new_pctrval = []\n",
    "new_pctrtest = []\n",
    "\n",
    "ratio = len(df_train) / 2 * np.bincount(df_train.click)\n",
    "balance_ratio = ratio[1] / ratio[0]\n",
    "\n",
    "for pctr in pCTRval[1]:\n",
    "    new_pctrval.append( pctr / (pctr + ((1-pctr) / balance_ratio)))\n",
    "\n",
    "for pctr in pCTRtest[1]:\n",
    "    new_pctrtest.append( pctr / (pctr + ((1-pctr) / balance_ratio)))"
   ]
  },
  {
   "cell_type": "code",
   "execution_count": 38,
   "metadata": {
    "collapsed": false
   },
   "outputs": [
    {
     "data": {
      "text/html": [
       "<div>\n",
       "<table border=\"1\" class=\"dataframe\">\n",
       "  <thead>\n",
       "    <tr style=\"text-align: right;\">\n",
       "      <th></th>\n",
       "      <th>0</th>\n",
       "    </tr>\n",
       "  </thead>\n",
       "  <tbody>\n",
       "    <tr>\n",
       "      <th>0</th>\n",
       "      <td>0.000158</td>\n",
       "    </tr>\n",
       "    <tr>\n",
       "      <th>1</th>\n",
       "      <td>0.007349</td>\n",
       "    </tr>\n",
       "    <tr>\n",
       "      <th>2</th>\n",
       "      <td>0.000829</td>\n",
       "    </tr>\n",
       "    <tr>\n",
       "      <th>3</th>\n",
       "      <td>0.000828</td>\n",
       "    </tr>\n",
       "    <tr>\n",
       "      <th>4</th>\n",
       "      <td>0.000450</td>\n",
       "    </tr>\n",
       "  </tbody>\n",
       "</table>\n",
       "</div>"
      ],
      "text/plain": [
       "          0\n",
       "0  0.000158\n",
       "1  0.007349\n",
       "2  0.000829\n",
       "3  0.000828\n",
       "4  0.000450"
      ]
     },
     "execution_count": 38,
     "metadata": {},
     "output_type": "execute_result"
    }
   ],
   "source": [
    "new_pctrval = pd.DataFrame(new_pctrval)\n",
    "new_pctrval.to_csv('pCTRval.csv')\n",
    "new_pctrval.head()"
   ]
  },
  {
   "cell_type": "code",
   "execution_count": 39,
   "metadata": {
    "collapsed": false
   },
   "outputs": [
    {
     "data": {
      "text/html": [
       "<div>\n",
       "<table border=\"1\" class=\"dataframe\">\n",
       "  <thead>\n",
       "    <tr style=\"text-align: right;\">\n",
       "      <th></th>\n",
       "      <th>0</th>\n",
       "    </tr>\n",
       "  </thead>\n",
       "  <tbody>\n",
       "    <tr>\n",
       "      <th>0</th>\n",
       "      <td>0.000970</td>\n",
       "    </tr>\n",
       "    <tr>\n",
       "      <th>1</th>\n",
       "      <td>0.000288</td>\n",
       "    </tr>\n",
       "    <tr>\n",
       "      <th>2</th>\n",
       "      <td>0.000398</td>\n",
       "    </tr>\n",
       "    <tr>\n",
       "      <th>3</th>\n",
       "      <td>0.000268</td>\n",
       "    </tr>\n",
       "    <tr>\n",
       "      <th>4</th>\n",
       "      <td>0.000473</td>\n",
       "    </tr>\n",
       "  </tbody>\n",
       "</table>\n",
       "</div>"
      ],
      "text/plain": [
       "          0\n",
       "0  0.000970\n",
       "1  0.000288\n",
       "2  0.000398\n",
       "3  0.000268\n",
       "4  0.000473"
      ]
     },
     "execution_count": 39,
     "metadata": {},
     "output_type": "execute_result"
    }
   ],
   "source": [
    "new_pctrtest = pd.DataFrame(new_pctrtest)\n",
    "new_pctrtest.to_csv('pCTRtest.csv')\n",
    "new_pctrtest.head()"
   ]
  },
  {
   "cell_type": "code",
   "execution_count": 41,
   "metadata": {
    "collapsed": false
   },
   "outputs": [
    {
     "data": {
      "text/plain": [
       "0.83500209285566407"
      ]
     },
     "execution_count": 41,
     "metadata": {},
     "output_type": "execute_result"
    }
   ],
   "source": [
    "fpr, tpr, thresholds = metrics.roc_curve(df_val.click, new_pctrval)\n",
    "metrics.auc(fpr, tpr)"
   ]
  },
  {
   "cell_type": "code",
   "execution_count": 40,
   "metadata": {
    "collapsed": false
   },
   "outputs": [
    {
     "data": {
      "image/png": "[encoded data removed]",
      "text/plain": [
       "<matplotlib.figure.Figure at 0x18c9822f6a0>"
      ]
     },
     "metadata": {},
     "output_type": "display_data"
    }
   ],
   "source": [
    "f, axes = plt.subplots(1, figsize=(8, 5))\n",
    "lab = 'AUC=%.5f' % metrics.auc(fpr, tpr)\n",
    "axes.step(fpr, tpr, lw=2,label=lab)\n",
    "axes.legend(loc='lower right', fontsize='small')\n",
    "plt.show()"
   ]
  },
  {
   "cell_type": "code",
   "execution_count": null,
   "metadata": {
    "collapsed": true
   },
   "outputs": [],
   "source": []
  }
 ],
 "metadata": {
  "kernelspec": {
   "display_name": "Python 3",
   "language": "python",
   "name": "python3"
  },
  "language_info": {
   "codemirror_mode": {
    "name": "ipython",
    "version": 3
   },
   "file_extension": ".py",
   "mimetype": "text/x-python",
   "name": "python",
   "nbconvert_exporter": "python",
   "pygments_lexer": "ipython3",
   "version": "3.6.0"
  }
 },
 "nbformat": 4,
 "nbformat_minor": 2
}
